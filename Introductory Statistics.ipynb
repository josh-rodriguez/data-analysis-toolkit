{
 "cells": [
  {
   "cell_type": "code",
   "execution_count": 2,
   "metadata": {},
   "outputs": [],
   "source": [
    "# Import packages\n",
    "import pandas as pd\n",
    "import matplotlib.pyplot as plt\n",
    "import seaborn as sns\n",
    "import numpy as np"
   ]
  },
  {
   "cell_type": "code",
   "execution_count": 9,
   "metadata": {},
   "outputs": [
    {
     "name": "stdout",
     "output_type": "stream",
     "text": [
      "     id  nps_score  subscribed_to_newsletter    interests  number_of_purchases\n",
      "0  1462        3.0                     False  Fly Fishing                    8\n",
      "1  1491        2.0                      True  Fly Fishing                   14\n",
      "2  1492        NaN                      True  Fly Fishing                   13\n",
      "3  1551        NaN                     False  Fly Fishing                   12\n",
      "4  1553        NaN                     False  Fly Fishing                   10 \n",
      "\n",
      "<class 'pandas.core.frame.DataFrame'>\n",
      "RangeIndex: 1000 entries, 0 to 999\n",
      "Data columns (total 5 columns):\n",
      " #   Column                    Non-Null Count  Dtype  \n",
      "---  ------                    --------------  -----  \n",
      " 0   id                        1000 non-null   int64  \n",
      " 1   nps_score                 391 non-null    float64\n",
      " 2   subscribed_to_newsletter  1000 non-null   bool   \n",
      " 3   interests                 789 non-null    object \n",
      " 4   number_of_purchases       1000 non-null   int64  \n",
      "dtypes: bool(1), float64(1), int64(2), object(1)\n",
      "memory usage: 32.4+ KB\n",
      "None \n",
      "\n"
     ]
    }
   ],
   "source": [
    "# Read in CSV data\n",
    "df = pd.read_csv('data/product_purchases.csv')\n",
    "print(df.head(), \"\\n\")\n",
    "print(df.info(),  \"\\n\")"
   ]
  },
  {
   "cell_type": "markdown",
   "metadata": {},
   "source": [
    "## Summary Statistics"
   ]
  },
  {
   "cell_type": "markdown",
   "metadata": {},
   "source": [
    "### Mean, Median, Min, Max"
   ]
  },
  {
   "cell_type": "code",
   "execution_count": 18,
   "metadata": {},
   "outputs": [
    {
     "name": "stdout",
     "output_type": "stream",
     "text": [
      "Mean Purchases: 15.852\n",
      "Median Purchases: 16.0\n",
      "Min Purchases: 3\n",
      "Max Purchases: 31\n"
     ]
    }
   ],
   "source": [
    "# Mean\n",
    "mean_purchases = df['number_of_purchases'].mean()\n",
    "print(\"Mean Purchases: \"+str(mean_purchases))\n",
    "\n",
    "# Median\n",
    "median_purchases = df['number_of_purchases'].median()\n",
    "print(\"Median Purchases: \"+str(median_purchases))\n",
    "\n",
    "# Min\n",
    "min_purchases = df['number_of_purchases'].min()\n",
    "print(\"Min Purchases: \"+str(min_purchases))\n",
    "\n",
    "# Max\n",
    "max_purchases = df['number_of_purchases'].max()\n",
    "print(\"Max Purchases: \"+str(max_purchases))"
   ]
  },
  {
   "cell_type": "markdown",
   "metadata": {},
   "source": [
    "### Inter-quartile range (IQR)"
   ]
  },
  {
   "cell_type": "code",
   "execution_count": 21,
   "metadata": {},
   "outputs": [
    {
     "name": "stdout",
     "output_type": "stream",
     "text": [
      "5.0\n",
      "iqr        5.0\n",
      "median    16.0\n",
      "Name: number_of_purchases, dtype: float64\n"
     ]
    }
   ],
   "source": [
    "# Inter-quartile range, which is the 75th percentile minus the 25th percentile\n",
    "# Using the .agg() method with a custom function\n",
    "def iqr(column):\n",
    "    return column.quantile(0.75) - column.quantile(0.25)\n",
    "\n",
    "print(df['number_of_purchases'].agg(iqr))\n",
    "\n",
    "# Print the IQR and Median\n",
    "print(df['number_of_purchases'].agg([iqr, np.median]))"
   ]
  },
  {
   "cell_type": "markdown",
   "metadata": {},
   "source": [
    "### Percentiles"
   ]
  },
  {
   "cell_type": "code",
   "execution_count": 8,
   "metadata": {},
   "outputs": [
    {
     "data": {
      "text/plain": [
       "14.0"
      ]
     },
     "execution_count": 8,
     "metadata": {},
     "output_type": "execute_result"
    }
   ],
   "source": [
    "# Define a function to return the 30th percentile\n",
    "def pct30(column):\n",
    "    return column.quantile(0.3)\n",
    "\n",
    "# Use the .agg() method to call the function on the 'number_of_purchases' column\n",
    "df['number_of_purchases'].agg(pct30)"
   ]
  },
  {
   "cell_type": "markdown",
   "metadata": {},
   "source": [
    "### .describe() Method"
   ]
  },
  {
   "cell_type": "code",
   "execution_count": 23,
   "metadata": {},
   "outputs": [
    {
     "data": {
      "text/plain": [
       "count    1000.000000\n",
       "mean       15.852000\n",
       "std         4.089354\n",
       "min         3.000000\n",
       "25%        13.000000\n",
       "50%        16.000000\n",
       "75%        18.000000\n",
       "max        31.000000\n",
       "Name: number_of_purchases, dtype: float64"
      ]
     },
     "execution_count": 23,
     "metadata": {},
     "output_type": "execute_result"
    }
   ],
   "source": [
    "# We can get all the summary statistics above with the .describe() method.\n",
    "# https://pandas.pydata.org/pandas-docs/stable/reference/api/pandas.DataFrame.describe.html\n",
    "\n",
    "df['number_of_purchases'].describe()"
   ]
  },
  {
   "cell_type": "markdown",
   "metadata": {},
   "source": [
    "## Computing the variance"
   ]
  },
  {
   "cell_type": "code",
   "execution_count": 13,
   "metadata": {},
   "outputs": [
    {
     "name": "stdout",
     "output_type": "stream",
     "text": [
      "Explicit: 16.706096\n",
      "Numpy: 16.706096\n"
     ]
    }
   ],
   "source": [
    "# Build array from DataFrame column\n",
    "purchases = df['number_of_purchases'].values\n",
    "\n",
    "# Array of differences to mean: differences\n",
    "differences = (purchases - np.mean(purchases))\n",
    "\n",
    "# Square the differences: diff_sq\n",
    "diff_sq = differences**2\n",
    "\n",
    "# Compute the mean square difference: variance_explicit\n",
    "variance_explicit = np.mean(diff_sq)\n",
    "\n",
    "# Now we'll do it the easy way\n",
    "# Compute the variance using NumPy: variance_np\n",
    "variance_np = np.var(purchases)\n",
    "\n",
    "# Print the results\n",
    "print(\"Explicit:\", variance_explicit)\n",
    "print(\"Numpy:\",variance_np)"
   ]
  }
 ],
 "metadata": {
  "kernelspec": {
   "display_name": "Python 3",
   "language": "python",
   "name": "python3"
  },
  "language_info": {
   "codemirror_mode": {
    "name": "ipython",
    "version": 3
   },
   "file_extension": ".py",
   "mimetype": "text/x-python",
   "name": "python",
   "nbconvert_exporter": "python",
   "pygments_lexer": "ipython3",
   "version": "3.8.3"
  }
 },
 "nbformat": 4,
 "nbformat_minor": 4
}
