{
 "cells": [
  {
   "cell_type": "code",
   "execution_count": 1,
   "metadata": {},
   "outputs": [],
   "source": [
    "# Import packages\n",
    "import pandas as pd\n",
    "import matplotlib.pyplot as plt\n",
    "import seaborn as sns\n",
    "import numpy as np"
   ]
  },
  {
   "cell_type": "code",
   "execution_count": 2,
   "metadata": {},
   "outputs": [
    {
     "name": "stdout",
     "output_type": "stream",
     "text": [
      "     id  nps_score  subscribed_to_newsletter    interests  number_of_purchases\n",
      "0  1462        3.0                     False  Fly Fishing                    8\n",
      "1  1491        2.0                      True  Fly Fishing                   14\n",
      "2  1492        NaN                      True  Fly Fishing                   13\n",
      "3  1551        NaN                     False  Fly Fishing                   12\n",
      "4  1553        NaN                     False  Fly Fishing                   10\n",
      "(1000, 5)\n"
     ]
    }
   ],
   "source": [
    "# Read in CSV data\n",
    "df = pd.read_csv('data/product_purchases.csv')\n",
    "print(df.head())\n",
    "print(df.shape)"
   ]
  },
  {
   "cell_type": "markdown",
   "metadata": {},
   "source": [
    "## Computing the variance"
   ]
  },
  {
   "cell_type": "code",
   "execution_count": 13,
   "metadata": {},
   "outputs": [
    {
     "name": "stdout",
     "output_type": "stream",
     "text": [
      "Explicit: 16.706096\n",
      "Numpy: 16.706096\n"
     ]
    }
   ],
   "source": [
    "# Build array from DataFrame column\n",
    "purchases = df['number_of_purchases'].values\n",
    "\n",
    "# Array of differences to mean: differences\n",
    "differences = (purchases - np.mean(purchases))\n",
    "\n",
    "# Square the differences: diff_sq\n",
    "diff_sq = differences**2\n",
    "\n",
    "# Compute the mean square difference: variance_explicit\n",
    "variance_explicit = np.mean(diff_sq)\n",
    "\n",
    "# Now we'll do it the easy way\n",
    "# Compute the variance using NumPy: variance_np\n",
    "variance_np = np.var(purchases)\n",
    "\n",
    "# Print the results\n",
    "print(\"Explicit:\", variance_explicit)\n",
    "print(\"Numpy:\",variance_np)"
   ]
  },
  {
   "cell_type": "code",
   "execution_count": null,
   "metadata": {},
   "outputs": [],
   "source": []
  }
 ],
 "metadata": {
  "kernelspec": {
   "display_name": "Python 3",
   "language": "python",
   "name": "python3"
  },
  "language_info": {
   "codemirror_mode": {
    "name": "ipython",
    "version": 3
   },
   "file_extension": ".py",
   "mimetype": "text/x-python",
   "name": "python",
   "nbconvert_exporter": "python",
   "pygments_lexer": "ipython3",
   "version": "3.7.3"
  }
 },
 "nbformat": 4,
 "nbformat_minor": 4
}
