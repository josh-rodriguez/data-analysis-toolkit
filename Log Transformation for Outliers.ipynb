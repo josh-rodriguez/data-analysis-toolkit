{
 "cells": [
  {
   "cell_type": "markdown",
   "metadata": {},
   "source": [
    "Log10x, Lnx, Log2x are strong transformations. Common for right skewed data.\n",
    "\n",
    "Log transformation can't be applied to zero or negative values or variables."
   ]
  },
  {
   "cell_type": "code",
   "execution_count": 3,
   "metadata": {},
   "outputs": [
    {
     "name": "stdout",
     "output_type": "stream",
     "text": [
      "<class 'pandas.core.frame.DataFrame'>\n",
      "RangeIndex: 50 entries, 0 to 49\n",
      "Data columns (total 1 columns):\n",
      " #   Column           Non-Null Count  Dtype\n",
      "---  ------           --------------  -----\n",
      " 0   Positive Skewed  50 non-null     int64\n",
      "dtypes: int64(1)\n",
      "memory usage: 528.0 bytes\n",
      "None\n"
     ]
    }
   ],
   "source": [
    "import pandas as pd\n",
    "import numpy as np\n",
    "import seaborn as sns\n",
    "import matplotlib.pyplot as plt\n",
    "\n",
    "# create a list of data \n",
    "data = [1,1,10,10,15,15,20,20,30,50,120,130,120,50,30,30,25,20,20,15,15,13,11,9,7,6,6,5,5,5,4,4,4,4,3,3,3,3,2,2,2,2,2,1,1,1,1,1,1,\n",
    "1] \n",
    "  \n",
    "# Create the pandas DataFrame \n",
    "df = pd.DataFrame(data, columns = ['Positive Skewed']) \n",
    "  \n",
    "# print dataframe. \n",
    "print(df.info())"
   ]
  },
  {
   "cell_type": "code",
   "execution_count": 4,
   "metadata": {},
   "outputs": [
    {
     "data": {
      "image/png": "[encoded data removed]",
      "text/plain": [
       "<Figure size 432x288 with 1 Axes>"
      ]
     },
     "metadata": {
      "needs_background": "light"
     },
     "output_type": "display_data"
    }
   ],
   "source": [
    "#Boxplot showing three outliers\n",
    "df.boxplot(column='Positive Skewed')\n",
    "plt.show()"
   ]
  },
  {
   "cell_type": "code",
   "execution_count": 5,
   "metadata": {},
   "outputs": [
    {
     "data": {
      "text/plain": [
       "<matplotlib.axes._subplots.AxesSubplot at 0x11c9eec88>"
      ]
     },
     "execution_count": 5,
     "metadata": {},
     "output_type": "execute_result"
    },
    {
     "data": {
      "image/png": "[encoded data removed]",
      "text/plain": [
       "<Figure size 432x288 with 1 Axes>"
      ]
     },
     "metadata": {
      "needs_background": "light"
     },
     "output_type": "display_data"
    }
   ],
   "source": [
    "#Right Skewed data\n",
    "sns.distplot(df)"
   ]
  },
  {
   "cell_type": "code",
   "execution_count": 6,
   "metadata": {},
   "outputs": [
    {
     "name": "stdout",
     "output_type": "stream",
     "text": [
      "Input array :      Positive Skewed\n",
      "0                 1\n",
      "1                 1\n",
      "2                10\n",
      "3                10\n",
      "4                15\n",
      "5                15\n",
      "6                20\n",
      "7                20\n",
      "8                30\n",
      "9                50\n",
      "10              120\n",
      "11              130\n",
      "12              120\n",
      "13               50\n",
      "14               30\n",
      "15               30\n",
      "16               25\n",
      "17               20\n",
      "18               20\n",
      "19               15\n",
      "20               15\n",
      "21               13\n",
      "22               11\n",
      "23                9\n",
      "24                7\n",
      "25                6\n",
      "26                6\n",
      "27                5\n",
      "28                5\n",
      "29                5\n",
      "30                4\n",
      "31                4\n",
      "32                4\n",
      "33                4\n",
      "34                3\n",
      "35                3\n",
      "36                3\n",
      "37                3\n",
      "38                2\n",
      "39                2\n",
      "40                2\n",
      "41                2\n",
      "42                2\n",
      "43                1\n",
      "44                1\n",
      "45                1\n",
      "46                1\n",
      "47                1\n",
      "48                1\n",
      "49                1\n"
     ]
    }
   ],
   "source": [
    "#Creating input data from dataframe df on variable Positive Skewness with input values ranging from 1 to 130\n",
    "inp_array = df \n",
    "print (\"Input array : \", inp_array)"
   ]
  },
  {
   "cell_type": "code",
   "execution_count": 7,
   "metadata": {},
   "outputs": [
    {
     "name": "stdout",
     "output_type": "stream",
     "text": [
      "Output array :      Positive Skewed\n",
      "0          0.000000\n",
      "1          0.000000\n",
      "2          1.000000\n",
      "3          1.000000\n",
      "4          1.176091\n",
      "5          1.176091\n",
      "6          1.301030\n",
      "7          1.301030\n",
      "8          1.477121\n",
      "9          1.698970\n",
      "10         2.079181\n",
      "11         2.113943\n",
      "12         2.079181\n",
      "13         1.698970\n",
      "14         1.477121\n",
      "15         1.477121\n",
      "16         1.397940\n",
      "17         1.301030\n",
      "18         1.301030\n",
      "19         1.176091\n",
      "20         1.176091\n",
      "21         1.113943\n",
      "22         1.041393\n",
      "23         0.954243\n",
      "24         0.845098\n",
      "25         0.778151\n",
      "26         0.778151\n",
      "27         0.698970\n",
      "28         0.698970\n",
      "29         0.698970\n",
      "30         0.602060\n",
      "31         0.602060\n",
      "32         0.602060\n",
      "33         0.602060\n",
      "34         0.477121\n",
      "35         0.477121\n",
      "36         0.477121\n",
      "37         0.477121\n",
      "38         0.301030\n",
      "39         0.301030\n",
      "40         0.301030\n",
      "41         0.301030\n",
      "42         0.301030\n",
      "43         0.000000\n",
      "44         0.000000\n",
      "45         0.000000\n",
      "46         0.000000\n",
      "47         0.000000\n",
      "48         0.000000\n",
      "49         0.000000\n"
     ]
    }
   ],
   "source": [
    "#Applying log10 transformation with output values ranging from 0 to 2+\n",
    "out_array = np.log10(inp_array) \n",
    "print (\"Output array : \", out_array)"
   ]
  },
  {
   "cell_type": "code",
   "execution_count": 9,
   "metadata": {},
   "outputs": [
    {
     "data": {
      "image/png": "[encoded data removed]",
      "text/plain": [
       "<Figure size 432x288 with 1 Axes>"
      ]
     },
     "metadata": {
      "needs_background": "light"
     },
     "output_type": "display_data"
    }
   ],
   "source": [
    "#Boxplot showing No outliers with all of them treated by doing log10 transformation.\n",
    "out_array.boxplot(column='Positive Skewed')\n",
    "plt.show()"
   ]
  },
  {
   "cell_type": "code",
   "execution_count": 10,
   "metadata": {},
   "outputs": [
    {
     "data": {
      "text/plain": [
       "<matplotlib.axes._subplots.AxesSubplot at 0x11ec86588>"
      ]
     },
     "execution_count": 10,
     "metadata": {},
     "output_type": "execute_result"
    },
    {
     "data": {
      "image/png": "[encoded data removed]",
      "text/plain": [
       "<Figure size 432x288 with 1 Axes>"
      ]
     },
     "metadata": {
      "needs_background": "light"
     },
     "output_type": "display_data"
    }
   ],
   "source": [
    "#Right Skewed data transformed to Fairly or close to Normal Distribution using Log10 transformations\n",
    "sns.distplot(out_array)"
   ]
  },
  {
   "cell_type": "code",
   "execution_count": 11,
   "metadata": {},
   "outputs": [
    {
     "name": "stdout",
     "output_type": "stream",
     "text": [
      "Original Values :      Positive Skewed\n",
      "0               1.0\n",
      "1               1.0\n",
      "2              10.0\n",
      "3              10.0\n",
      "4              15.0\n",
      "5              15.0\n",
      "6              20.0\n",
      "7              20.0\n",
      "8              30.0\n",
      "9              50.0\n",
      "10            120.0\n",
      "11            130.0\n",
      "12            120.0\n",
      "13             50.0\n",
      "14             30.0\n",
      "15             30.0\n",
      "16             25.0\n",
      "17             20.0\n",
      "18             20.0\n",
      "19             15.0\n",
      "20             15.0\n",
      "21             13.0\n",
      "22             11.0\n",
      "23              9.0\n",
      "24              7.0\n",
      "25              6.0\n",
      "26              6.0\n",
      "27              5.0\n",
      "28              5.0\n",
      "29              5.0\n",
      "30              4.0\n",
      "31              4.0\n",
      "32              4.0\n",
      "33              4.0\n",
      "34              3.0\n",
      "35              3.0\n",
      "36              3.0\n",
      "37              3.0\n",
      "38              2.0\n",
      "39              2.0\n",
      "40              2.0\n",
      "41              2.0\n",
      "42              2.0\n",
      "43              1.0\n",
      "44              1.0\n",
      "45              1.0\n",
      "46              1.0\n",
      "47              1.0\n",
      "48              1.0\n",
      "49              1.0\n"
     ]
    }
   ],
   "source": [
    "#If wants to revert back log10 values to original value for interpretation purpose then just raise 10 to the power \n",
    "#log10 values as shown below.\n",
    "original_val = (10**out_array) \n",
    "print (\"Original Values : \", original_val)"
   ]
  },
  {
   "cell_type": "code",
   "execution_count": null,
   "metadata": {},
   "outputs": [],
   "source": [
    "\n",
    "00"
   ]
  }
 ],
 "metadata": {
  "kernelspec": {
   "display_name": "Python 3",
   "language": "python",
   "name": "python3"
  },
  "language_info": {
   "codemirror_mode": {
    "name": "ipython",
    "version": 3
   },
   "file_extension": ".py",
   "mimetype": "text/x-python",
   "name": "python",
   "nbconvert_exporter": "python",
   "pygments_lexer": "ipython3",
   "version": "3.7.3"
  }
 },
 "nbformat": 4,
 "nbformat_minor": 4
}
