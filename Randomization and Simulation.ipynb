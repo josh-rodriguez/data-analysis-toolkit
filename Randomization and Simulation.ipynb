{
 "cells": [
  {
   "cell_type": "markdown",
   "metadata": {},
   "source": [
    "# Randomization and Simulation"
   ]
  },
  {
   "cell_type": "code",
   "execution_count": 16,
   "metadata": {},
   "outputs": [],
   "source": [
    "# Import dependencies\n",
    "import pandas as pd\n",
    "import matplotlib.pyplot as plt\n",
    "import seaborn as sns\n",
    "import numpy as np\n",
    "from random import seed, randint"
   ]
  },
  {
   "cell_type": "code",
   "execution_count": 15,
   "metadata": {},
   "outputs": [
    {
     "name": "stdout",
     "output_type": "stream",
     "text": [
      "3\n",
      "10\n",
      "10\n",
      "5\n",
      "10\n",
      "8\n",
      "10\n",
      "5\n",
      "1\n",
      "0\n"
     ]
    }
   ],
   "source": [
    "# Generating random integers\n",
    "# prints a different series of integers each time.\n",
    "for i in range(10):\n",
    "    print(randint(0,10)) "
   ]
  },
  {
   "cell_type": "code",
   "execution_count": 19,
   "metadata": {},
   "outputs": [
    {
     "name": "stdout",
     "output_type": "stream",
     "text": [
      "9\n",
      "1\n",
      "7\n",
      "4\n",
      "0\n",
      "0\n",
      "2\n",
      "10\n",
      "9\n",
      "7\n"
     ]
    }
   ],
   "source": [
    "# Using the .seed() method to generate the same random integers\n",
    "# This allows us to test repeat ability with data models\n",
    "seed(6)\n",
    "for i in range(10):\n",
    "    print(randint(0,10))"
   ]
  },
  {
   "cell_type": "markdown",
   "metadata": {},
   "source": [
    "## Random Normal Population"
   ]
  },
  {
   "cell_type": "code",
   "execution_count": 43,
   "metadata": {},
   "outputs": [
    {
     "name": "stdout",
     "output_type": "stream",
     "text": [
      "0.021135211047006663\n",
      "0.0019181809316322074\n"
     ]
    },
    {
     "data": {
      "image/png": "[encoded data removed]",
      "text/plain": [
       "<Figure size 432x288 with 1 Axes>"
      ]
     },
     "metadata": {
      "needs_background": "light"
     },
     "output_type": "display_data"
    }
   ],
   "source": [
    "# make the random numbers predictable\n",
    "# https://docs.scipy.org/doc/numpy-1.3.x/reference/generated/numpy.random.seed.html\n",
    "\n",
    "seed(5) # seed random()\n",
    "\n",
    "mu, sigma = 16, 4 # mean and standard deviation\n",
    "s = np.random.normal(mu, sigma, 1000)\n",
    "print(abs(mu - np.mean(s)))\n",
    "print(abs(sigma - np.std(s, ddof=1)))\n",
    "\n",
    "count, bins, ignored = plt.hist(s, 30, density=True)\n",
    "plt.plot(bins, 1/(sigma * np.sqrt(2 * np.pi)) * \\\n",
    "         np.exp( - (bins - mu)**2 / (2 * sigma**2) ), \\\n",
    "         linewidth=2, color='r')\n",
    "\n",
    "plt.show()"
   ]
  },
  {
   "cell_type": "code",
   "execution_count": 41,
   "metadata": {},
   "outputs": [
    {
     "name": "stdout",
     "output_type": "stream",
     "text": [
      "[15 18 10 19 19 10 17 13 17 14 16 17 14 12 15 22 11 14 18 18]\n",
      "1000\n",
      "     Random Integer\n",
      "0                15\n",
      "1                18\n",
      "2                10\n",
      "3                19\n",
      "4                19\n",
      "..              ...\n",
      "995              18\n",
      "996              23\n",
      "997              12\n",
      "998              15\n",
      "999              19\n",
      "\n",
      "[1000 rows x 1 columns]\n"
     ]
    }
   ],
   "source": [
    "# Convert random numbers to integers\n",
    "random_integers = np.asarray(np.round(s,0),dtype=int)\n",
    "print(random_integers[:20])# print first 20 values\n",
    "print(len(random_integers))\n",
    "\n",
    "# Convert numpy array to pandas DataFrame\n",
    "zipped = list(zip(['Random Integer'], [random_integers]))\n",
    "rand_df = pd.DataFrame(dict(zipped))\n",
    "print(rand_df)"
   ]
  },
  {
   "cell_type": "code",
   "execution_count": null,
   "metadata": {},
   "outputs": [],
   "source": []
  }
 ],
 "metadata": {
  "kernelspec": {
   "display_name": "Python 3",
   "language": "python",
   "name": "python3"
  },
  "language_info": {
   "codemirror_mode": {
    "name": "ipython",
    "version": 3
   },
   "file_extension": ".py",
   "mimetype": "text/x-python",
   "name": "python",
   "nbconvert_exporter": "python",
   "pygments_lexer": "ipython3",
   "version": "3.7.3"
  }
 },
 "nbformat": 4,
 "nbformat_minor": 4
}
